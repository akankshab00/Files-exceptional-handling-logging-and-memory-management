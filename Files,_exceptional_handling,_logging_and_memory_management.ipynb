{
  "nbformat": 4,
  "nbformat_minor": 0,
  "metadata": {
    "colab": {
      "provenance": []
    },
    "kernelspec": {
      "name": "python3",
      "display_name": "Python 3"
    },
    "language_info": {
      "name": "python"
    }
  },
  "cells": [
    {
      "cell_type": "markdown",
      "source": [
        "**Files, exceptional handling, logging and memory management questions**\n",
        "\n",
        "\n",
        "\n",
        "**1. What is the difference between interpreted and compiled languages?  **\n",
        "\n",
        "\n",
        "\t•\tInterpreted Languages: Code is executed line by line by an interpreter at runtime (e.g., Python, JavaScript).\n",
        "\n",
        "\t•\tCompiled Languages: Code is converted into machine code by a compiler before execution (e.g., C, C++).\n",
        "\n",
        "  \n",
        "\n",
        "\n",
        "**2. What is exception handling in Python?**\n",
        "\n",
        "\n",
        "It is a mechanism to handle runtime errors, ensuring the program continues execution or terminates gracefully using constructs like try, except, else, and finally.\n",
        "\n",
        "\n",
        "**3. What is the purpose of the finally block in exception handling?**\n",
        "\n",
        "\n",
        "The finally block contains code that is always executed, regardless of whether an exception occurred or not. It is commonly used for cleanup operations.\n",
        "\n",
        "\n",
        "**4. What is logging in Python?**\n",
        "\n",
        "\n",
        "Logging is a way to track events and errors in a program. Python provides the logging module to record messages of varying severity levels for debugging or monitoring purposes.\n",
        "\n",
        "\n",
        "**5. What is the significance of the __del__ method in Python?**\n",
        "\n",
        "\n",
        "The __del__ method is called when an object is about to be destroyed by Python’s garbage collector. It can be used to release resources like files or network connections.\n",
        "\n",
        "\n",
        "**6. What is the difference between import and from ... import in Python?**\n",
        "\n",
        "\t•\timport: Imports the entire module (e.g., import math).\n",
        "\n",
        "\t•\tfrom ... import: Imports specific functions or variables from a module (e.g., from math import sqrt).\n",
        "\n",
        "\n",
        "**7. How can you handle multiple exceptions in Python?**\n",
        "\n",
        "\n",
        "You can handle multiple exceptions using:\n",
        "\n",
        "\t1.\tSeparate except blocks for each exception.\n",
        "\n",
        "\t2.\tA single except block with a tuple of exceptions (e.g., except (ValueError, TypeError):).\n",
        "\n",
        "\n",
        "**8. What is the purpose of the with statement when handling files in Python?**\n",
        "\n",
        "\n",
        "The with statement ensures proper management of resources like files. It automatically closes the file after the block execution, even if an error occurs.\n",
        "\n",
        "\n",
        "**9. What is the difference between multithreading and multiprocessing?**\n",
        "\n",
        "\t•\tMultithreading: Multiple threads run within the same process, sharing memory space.\n",
        "\n",
        "\t•\tMultiprocessing: Separate processes run independently, with each process having its own memory.\n",
        "\n",
        "\n",
        "**10. What are the advantages of using logging in a program?**\n",
        "\n",
        "\t•\tDebugging and error tracking.\n",
        "\n",
        "\t•\tMonitoring application behavior.\n",
        "\n",
        "\t•\tBetter than print statements due to configurable levels, formatting, and output options.\n",
        "\n",
        "\n",
        "**11. What is memory management in Python?**\n",
        "\n",
        "\n",
        "Python manages memory through its built-in garbage collection system and a private heap where objects and data are stored.\n",
        "\n",
        "\n",
        "**12. What are the basic steps involved in exception handling in Python?**\n",
        "\n",
        "\n",
        "\t1.\tPlace the risky code inside a try block.\n",
        "\n",
        "\t2.\tUse except blocks to handle specific exceptions.\n",
        "\n",
        "\t3.\tOptionally use else for non-exceptional scenarios.\n",
        "\n",
        "\t4.\tUse finally for cleanup code.\n",
        "\n",
        "\n",
        "**13. Why is memory management important in Python?**\n",
        "\n",
        "\n",
        "Efficient memory management prevents memory leaks, ensures optimal resource usage, and maintains program performance.\n",
        "\n",
        "\n",
        "**14. What is the role of try and except in exception handling?**\n",
        "\n",
        "\t•\ttry: Contains code that may raise exceptions.\n",
        "\n",
        "\t•\texcept: Handles specific exceptions if they occur in the try block.\n",
        "\n",
        "\n",
        "**15. How does Python’s garbage collection system work?**\n",
        "\n",
        "\n",
        "Python uses a reference counting mechanism and cyclic garbage collection to automatically reclaim unused memory.\n",
        "\n",
        "\n",
        "**16. What is the purpose of the else block in exception handling?**\n",
        "\n",
        "\n",
        "The else block executes code if no exception occurs in the try block.\n",
        "\n",
        "It is useful for code dependent on the success of the try block.\n",
        "\n",
        "\n",
        "\n",
        "**17. What are the common logging levels in Python?**\n",
        "\n",
        "\n",
        "\t•\tDEBUG: Detailed information for diagnosing problems.\n",
        "\n",
        "\t•\tINFO: Confirmation that things are working as expected.\n",
        "\n",
        "\t•\tWARNING: Indicates potential problems.\n",
        "\n",
        "\t•\tERROR: Due to a more serious problem.\n",
        "\n",
        "\t•\tCRITICAL: A severe error causing program termination.\n",
        "\n",
        "\n",
        "**18. What is the difference between os.fork() and multiprocessing in Python?**\n",
        "\n",
        "\t•\tos.fork(): Creates a new child process in UNIX-based systems, sharing memory with the parent.\n",
        "\n",
        "\t•\tMultiprocessing Module: Creates separate processes with independent memory spaces, portable across platforms.\n",
        "\n",
        "\n",
        "**19. What is the importance of closing a file in Python?**\n",
        "\n",
        "\n",
        "Closing a file releases system resources and ensures data is written to disk properly.\n",
        "\n",
        "\n",
        "**20. What is the difference between file.read() and file.readline() in Python?**\n",
        "\n",
        "\t•\tfile.read(): Reads the entire file or a specified number of characters.\n",
        "\n",
        "\t•\tfile.readline(): Reads one line at a time.\n",
        "\n",
        "\n",
        "**21. What is the logging module in Python used for?**\n",
        "\n",
        "\n",
        "It is used to record events, warnings, errors, and debugging information during program execution.\n",
        "\n",
        "\n",
        "**22. What is the os module in Python used for in file handling?**\n",
        "\n",
        "\n",
        "The os module provides functions to interact with the operating system, such as reading/writing files, directory operations, and managing file paths.\n",
        "\n",
        "\n",
        "**23. What are the challenges associated with memory management in Python?**\n",
        "\n",
        "\t•\tManaging cyclic references.\n",
        "\n",
        "\t•\tPerformance overhead of garbage collection.\n",
        "\n",
        "\t•\tMemory fragmentation in long-running programs.\n",
        "\n",
        "\n",
        "**24. How do you raise an exception manually in Python?**\n",
        "\n",
        "\n",
        "You can raise an exception using the raise keyword, e.g., raise ValueError(\"An error occurred\").\n",
        "\n",
        "\n",
        "**25. Why is it important to use multithreading in certain applications?**\n",
        "\n",
        "\n",
        "Multithreading is useful for:\n",
        "\n",
        "\t•\tConcurrent I/O-bound operations.\n",
        "\n",
        "\t•\tImproving application responsiveness.\n",
        "\n",
        "\t•\tUtilizing multiple CPU cores when paired with non-Python threads (e.g., in C extensions).\n"
      ],
      "metadata": {
        "id": "jtMOt-5SCUt6"
      }
    },
    {
      "cell_type": "markdown",
      "source": [
        "**Practical Questions**"
      ],
      "metadata": {
        "id": "12C2W5JTD_Hc"
      }
    },
    {
      "cell_type": "markdown",
      "source": [
        "**1. How can you open a file for writing in Python and write a string to it?**"
      ],
      "metadata": {
        "id": "jtjgLERbFr2U"
      }
    },
    {
      "cell_type": "code",
      "source": [
        "with open(\"file.txt\", \"w\") as file:\n",
        "    file.write(\"This is a sample string.\")"
      ],
      "metadata": {
        "id": "bKML6ZjpFvas"
      },
      "execution_count": 2,
      "outputs": []
    },
    {
      "cell_type": "markdown",
      "source": [
        "**2. Write a Python program to read the contents of a file and print each line.**"
      ],
      "metadata": {
        "id": "xIP5Xh_sFvrH"
      }
    },
    {
      "cell_type": "code",
      "source": [
        "with open(\"file.txt\", \"r\") as file:\n",
        "    for line in file:\n",
        "        print(line.strip())"
      ],
      "metadata": {
        "colab": {
          "base_uri": "https://localhost:8080/"
        },
        "id": "8ar2H8HVFvzs",
        "outputId": "7b1154c2-00b2-47ae-8c24-c963a6e7b7ee"
      },
      "execution_count": 3,
      "outputs": [
        {
          "output_type": "stream",
          "name": "stdout",
          "text": [
            "This is a sample string.\n"
          ]
        }
      ]
    },
    {
      "cell_type": "markdown",
      "source": [
        "**3. How would you handle a case where the file doesn’t exist while trying to open it for reading?**"
      ],
      "metadata": {
        "id": "LHtv2rJuFv7g"
      }
    },
    {
      "cell_type": "code",
      "source": [
        "try:\n",
        "    with open(\"nonexistent.txt\", \"r\") as file:\n",
        "        content = file.read()\n",
        "except FileNotFoundError:\n",
        "    print(\"The file does not exist.\")"
      ],
      "metadata": {
        "colab": {
          "base_uri": "https://localhost:8080/"
        },
        "id": "HJaLug46FwEg",
        "outputId": "5cb7e83b-b369-4a6a-9c0b-5fead942ad00"
      },
      "execution_count": 4,
      "outputs": [
        {
          "output_type": "stream",
          "name": "stdout",
          "text": [
            "The file does not exist.\n"
          ]
        }
      ]
    },
    {
      "cell_type": "markdown",
      "source": [
        "**4. Write a Python script that reads from one file and writes its content to another file.**"
      ],
      "metadata": {
        "id": "Kmd6ZotMFwL5"
      }
    },
    {
      "cell_type": "code",
      "source": [
        "with open(\"source.txt\", \"r\") as source:\n",
        "    content = source.read()\n",
        "\n",
        "with open(\"destination.txt\", \"w\") as destination:\n",
        "    destination.write(content)"
      ],
      "metadata": {
        "colab": {
          "base_uri": "https://localhost:8080/",
          "height": 207
        },
        "id": "agTGwRl2FwUR",
        "outputId": "7008d3e5-46ff-4541-fce4-a820f69ec2d9"
      },
      "execution_count": 6,
      "outputs": [
        {
          "output_type": "error",
          "ename": "FileNotFoundError",
          "evalue": "[Errno 2] No such file or directory: 'source.txt'",
          "traceback": [
            "\u001b[0;31m---------------------------------------------------------------------------\u001b[0m",
            "\u001b[0;31mFileNotFoundError\u001b[0m                         Traceback (most recent call last)",
            "\u001b[0;32m<ipython-input-6-80c0a949e68b>\u001b[0m in \u001b[0;36m<cell line: 1>\u001b[0;34m()\u001b[0m\n\u001b[0;32m----> 1\u001b[0;31m \u001b[0;32mwith\u001b[0m \u001b[0mopen\u001b[0m\u001b[0;34m(\u001b[0m\u001b[0;34m\"source.txt\"\u001b[0m\u001b[0;34m,\u001b[0m \u001b[0;34m\"r\"\u001b[0m\u001b[0;34m)\u001b[0m \u001b[0;32mas\u001b[0m \u001b[0msource\u001b[0m\u001b[0;34m:\u001b[0m\u001b[0;34m\u001b[0m\u001b[0;34m\u001b[0m\u001b[0m\n\u001b[0m\u001b[1;32m      2\u001b[0m     \u001b[0mcontent\u001b[0m \u001b[0;34m=\u001b[0m \u001b[0msource\u001b[0m\u001b[0;34m.\u001b[0m\u001b[0mread\u001b[0m\u001b[0;34m(\u001b[0m\u001b[0;34m)\u001b[0m\u001b[0;34m\u001b[0m\u001b[0;34m\u001b[0m\u001b[0m\n\u001b[1;32m      3\u001b[0m \u001b[0;34m\u001b[0m\u001b[0m\n\u001b[1;32m      4\u001b[0m \u001b[0;32mwith\u001b[0m \u001b[0mopen\u001b[0m\u001b[0;34m(\u001b[0m\u001b[0;34m\"destination.txt\"\u001b[0m\u001b[0;34m,\u001b[0m \u001b[0;34m\"w\"\u001b[0m\u001b[0;34m)\u001b[0m \u001b[0;32mas\u001b[0m \u001b[0mdestination\u001b[0m\u001b[0;34m:\u001b[0m\u001b[0;34m\u001b[0m\u001b[0;34m\u001b[0m\u001b[0m\n\u001b[1;32m      5\u001b[0m     \u001b[0mdestination\u001b[0m\u001b[0;34m.\u001b[0m\u001b[0mwrite\u001b[0m\u001b[0;34m(\u001b[0m\u001b[0mcontent\u001b[0m\u001b[0;34m)\u001b[0m\u001b[0;34m\u001b[0m\u001b[0;34m\u001b[0m\u001b[0m\n",
            "\u001b[0;31mFileNotFoundError\u001b[0m: [Errno 2] No such file or directory: 'source.txt'"
          ]
        }
      ]
    },
    {
      "cell_type": "markdown",
      "source": [
        "**5. How would you catch and handle division by zero error in Python?**"
      ],
      "metadata": {
        "id": "wqe2BmBAFwb0"
      }
    },
    {
      "cell_type": "code",
      "source": [
        "try:\n",
        "    result = 10 / 0\n",
        "except ZeroDivisionError:\n",
        "    print(\"Cannot divide by zero!\")"
      ],
      "metadata": {
        "colab": {
          "base_uri": "https://localhost:8080/"
        },
        "id": "geC6A_ntFwi1",
        "outputId": "30e252ea-b1e6-46eb-8fea-edb099dda042"
      },
      "execution_count": 7,
      "outputs": [
        {
          "output_type": "stream",
          "name": "stdout",
          "text": [
            "Cannot divide by zero!\n"
          ]
        }
      ]
    },
    {
      "cell_type": "markdown",
      "source": [
        "**6. Write a Python program that logs an error message to a log file when a division by zero exception occurs.**"
      ],
      "metadata": {
        "id": "p5ZHbzGgFwp2"
      }
    },
    {
      "cell_type": "code",
      "source": [
        "import logging\n",
        "\n",
        "logging.basicConfig(filename=\"error.log\", level=logging.ERROR)\n",
        "\n",
        "try:\n",
        "    result = 10 / 0\n",
        "except ZeroDivisionError as e:\n",
        "    logging.error(f\"Division by zero occurred: {e}\")"
      ],
      "metadata": {
        "colab": {
          "base_uri": "https://localhost:8080/"
        },
        "id": "pejADAzJFwvU",
        "outputId": "e08f35e5-087d-45c9-a5b3-f3034ee4ad16"
      },
      "execution_count": 8,
      "outputs": [
        {
          "output_type": "stream",
          "name": "stderr",
          "text": [
            "ERROR:root:Division by zero occurred: division by zero\n"
          ]
        }
      ]
    },
    {
      "cell_type": "markdown",
      "source": [
        "**7. How do you log information at different levels (INFO, ERROR, WARNING) in Python using the logging module?**"
      ],
      "metadata": {
        "id": "ZyMAvhLqFw2Y"
      }
    },
    {
      "cell_type": "code",
      "source": [
        "import logging\n",
        "\n",
        "logging.basicConfig(level=logging.INFO)\n",
        "\n",
        "logging.info(\"This is an informational message.\")\n",
        "logging.warning(\"This is a warning message.\")\n",
        "logging.error(\"This is an error message.\")"
      ],
      "metadata": {
        "colab": {
          "base_uri": "https://localhost:8080/"
        },
        "id": "zxXVOmNNFw84",
        "outputId": "92dc3731-a89c-44ec-fe34-8578fd8b5009"
      },
      "execution_count": 9,
      "outputs": [
        {
          "output_type": "stream",
          "name": "stderr",
          "text": [
            "WARNING:root:This is a warning message.\n",
            "ERROR:root:This is an error message.\n"
          ]
        }
      ]
    },
    {
      "cell_type": "markdown",
      "source": [
        "**8. Write a program to handle a file opening error using exception handling.**"
      ],
      "metadata": {
        "id": "0z_yyAoEFxE8"
      }
    },
    {
      "cell_type": "code",
      "source": [
        "try:\n",
        "    with open(\"nonexistent.txt\", \"r\") as file:\n",
        "        content = file.read()\n",
        "except FileNotFoundError:\n",
        "    print(\"The file could not be opened.\")"
      ],
      "metadata": {
        "colab": {
          "base_uri": "https://localhost:8080/"
        },
        "id": "NfIjyTVwFxMf",
        "outputId": "04be79d4-4251-4c57-c314-3cf12b08fb1e"
      },
      "execution_count": 10,
      "outputs": [
        {
          "output_type": "stream",
          "name": "stdout",
          "text": [
            "The file could not be opened.\n"
          ]
        }
      ]
    },
    {
      "cell_type": "markdown",
      "source": [
        "**9. How can you read a file line by line and store its content in a list in Python?**"
      ],
      "metadata": {
        "id": "KmqDvc8hFxU_"
      }
    },
    {
      "cell_type": "code",
      "source": [
        "with open(\"file.txt\", \"r\") as file:\n",
        "    lines = [line.strip() for line in file]"
      ],
      "metadata": {
        "id": "P8RoXB_VFxb1"
      },
      "execution_count": 11,
      "outputs": []
    },
    {
      "cell_type": "markdown",
      "source": [
        "**10. How can you append data to an existing file in Python?**"
      ],
      "metadata": {
        "id": "8Wp6YOk7Fxjr"
      }
    },
    {
      "cell_type": "code",
      "source": [
        "with open(\"file.txt\", \"a\") as file:\n",
        "    file.write(\"Appending this new line.\\n\")"
      ],
      "metadata": {
        "id": "rYNGqWXaFxrM"
      },
      "execution_count": 12,
      "outputs": []
    },
    {
      "cell_type": "markdown",
      "source": [
        "**11. Write a Python program that uses a try-except block to handle an error when attempting to access a dictionary key that doesn’t exist.**"
      ],
      "metadata": {
        "id": "5FG73P0-FxyR"
      }
    },
    {
      "cell_type": "code",
      "source": [
        "data = {\"key1\": \"value1\"}\n",
        "\n",
        "try:\n",
        "    value = data[\"nonexistent_key\"]\n",
        "except KeyError:\n",
        "    print(\"Key not found in dictionary.\")"
      ],
      "metadata": {
        "colab": {
          "base_uri": "https://localhost:8080/"
        },
        "id": "U-oe1pHZFx4w",
        "outputId": "65ced633-b098-42f5-9602-d2f9c8b5e639"
      },
      "execution_count": 13,
      "outputs": [
        {
          "output_type": "stream",
          "name": "stdout",
          "text": [
            "Key not found in dictionary.\n"
          ]
        }
      ]
    },
    {
      "cell_type": "markdown",
      "source": [
        "**12. Write a program that demonstrates using multiple except blocks to handle different types of exceptions.**"
      ],
      "metadata": {
        "id": "UkB4QYUmFx_h"
      }
    },
    {
      "cell_type": "code",
      "source": [
        "try:\n",
        "    result = 10 / 0\n",
        "    value = int(\"abc\")\n",
        "except ZeroDivisionError:\n",
        "    print(\"Cannot divide by zero.\")\n",
        "except ValueError:\n",
        "    print(\"Invalid conversion to integer.\")"
      ],
      "metadata": {
        "colab": {
          "base_uri": "https://localhost:8080/"
        },
        "id": "A-NQObieFyGW",
        "outputId": "6ee0c311-21cd-498d-d25d-39b37e839101"
      },
      "execution_count": 14,
      "outputs": [
        {
          "output_type": "stream",
          "name": "stdout",
          "text": [
            "Cannot divide by zero.\n"
          ]
        }
      ]
    },
    {
      "cell_type": "markdown",
      "source": [
        "**13. How would you check if a file exists before attempting to read it in Python?**"
      ],
      "metadata": {
        "id": "ep4kpEoXFyN3"
      }
    },
    {
      "cell_type": "code",
      "source": [
        "import os\n",
        "\n",
        "if os.path.exists(\"file.txt\"):\n",
        "    with open(\"file.txt\", \"r\") as file:\n",
        "        content = file.read()\n",
        "else:\n",
        "    print(\"File does not exist.\")"
      ],
      "metadata": {
        "id": "NGi5QgJbIem3"
      },
      "execution_count": 15,
      "outputs": []
    },
    {
      "cell_type": "markdown",
      "source": [
        "**14. Write a program that uses the logging module to log both informational and error messages.**"
      ],
      "metadata": {
        "id": "b03Ifgc8FyTl"
      }
    },
    {
      "cell_type": "code",
      "source": [
        "import logging\n",
        "\n",
        "logging.basicConfig(filename=\"app.log\", level=logging.INFO)\n",
        "\n",
        "try:\n",
        "    result = 10 / 0\n",
        "except ZeroDivisionError as e:\n",
        "    logging.error(f\"Error occurred: {e}\")\n",
        "else:\n",
        "    logging.info(\"Operation successful.\")"
      ],
      "metadata": {
        "colab": {
          "base_uri": "https://localhost:8080/"
        },
        "id": "_lIMy5fCFyrU",
        "outputId": "6efe6a7c-0bcb-4081-e66b-a3a9b9ff39ff"
      },
      "execution_count": 16,
      "outputs": [
        {
          "output_type": "stream",
          "name": "stderr",
          "text": [
            "ERROR:root:Error occurred: division by zero\n"
          ]
        }
      ]
    },
    {
      "cell_type": "markdown",
      "source": [
        "**15. Write a Python program that prints the content of a file and handles the case when the file is empty.**"
      ],
      "metadata": {
        "id": "_vBAp5zwFy0n"
      }
    },
    {
      "cell_type": "code",
      "source": [
        "with open(\"file.txt\", \"r\") as file:\n",
        "    content = file.read()\n",
        "    if not content:\n",
        "        print(\"The file is empty.\")\n",
        "    else:\n",
        "        print(content)"
      ],
      "metadata": {
        "colab": {
          "base_uri": "https://localhost:8080/"
        },
        "id": "WY2w279qFy8M",
        "outputId": "9fac2c74-4c2c-4acb-cc4e-fbbb09c8fded"
      },
      "execution_count": 17,
      "outputs": [
        {
          "output_type": "stream",
          "name": "stdout",
          "text": [
            "This is a sample string.Appending this new line.\n",
            "\n"
          ]
        }
      ]
    },
    {
      "cell_type": "markdown",
      "source": [
        "**16. Demonstrate how to use memory profiling to check the memory usage of a small program.**\n",
        "\n",
        "Install memory_profiler first:\n",
        "bash"
      ],
      "metadata": {
        "id": "ml0hjzPvIxnh"
      }
    },
    {
      "cell_type": "code",
      "source": [
        "pip install memory-profiler"
      ],
      "metadata": {
        "colab": {
          "base_uri": "https://localhost:8080/"
        },
        "id": "_udbT7BWFzDy",
        "outputId": "92e5e1ab-514a-4096-84c5-0f5d7fdefde3"
      },
      "execution_count": 19,
      "outputs": [
        {
          "output_type": "stream",
          "name": "stdout",
          "text": [
            "Collecting memory-profiler\n",
            "  Downloading memory_profiler-0.61.0-py3-none-any.whl.metadata (20 kB)\n",
            "Requirement already satisfied: psutil in /usr/local/lib/python3.10/dist-packages (from memory-profiler) (5.9.5)\n",
            "Downloading memory_profiler-0.61.0-py3-none-any.whl (31 kB)\n",
            "Installing collected packages: memory-profiler\n",
            "Successfully installed memory-profiler-0.61.0\n"
          ]
        }
      ]
    },
    {
      "cell_type": "markdown",
      "source": [
        "example"
      ],
      "metadata": {
        "id": "yn_GtKeLFzhL"
      }
    },
    {
      "cell_type": "code",
      "source": [
        "from memory_profiler import profile\n",
        "\n",
        "@profile\n",
        "def memory_usage_example():\n",
        "    data = [x ** 2 for x in range(10000)]\n",
        "    return data\n",
        "\n",
        "memory_usage_example()"
      ],
      "metadata": {
        "colab": {
          "base_uri": "https://localhost:8080/"
        },
        "id": "dCX7FS8TFzn8",
        "outputId": "680b4d83-b945-46da-c448-a3e128385669"
      },
      "execution_count": 20,
      "outputs": [
        {
          "output_type": "stream",
          "name": "stderr",
          "text": [
            "\n",
            "PYDEV DEBUGGER WARNING:\n",
            "sys.settrace() should not be used when the debugger is being used.\n",
            "This may cause the debugger to stop working correctly.\n",
            "If this is needed, please check: \n",
            "http://pydev.blogspot.com/2007/06/why-cant-pydev-debugger-work-with.html\n",
            "to see how to restore the debug tracing back correctly.\n",
            "Call Location:\n",
            "  File \"/usr/local/lib/python3.10/dist-packages/memory_profiler.py\", line 847, in enable\n",
            "    sys.settrace(self.trace_memory_usage)\n",
            "\n",
            "\n",
            "PYDEV DEBUGGER WARNING:\n",
            "sys.settrace() should not be used when the debugger is being used.\n",
            "This may cause the debugger to stop working correctly.\n",
            "If this is needed, please check: \n",
            "http://pydev.blogspot.com/2007/06/why-cant-pydev-debugger-work-with.html\n",
            "to see how to restore the debug tracing back correctly.\n",
            "Call Location:\n",
            "  File \"/usr/local/lib/python3.10/dist-packages/memory_profiler.py\", line 850, in disable\n",
            "    sys.settrace(self._original_trace_function)\n",
            "\n"
          ]
        },
        {
          "output_type": "stream",
          "name": "stdout",
          "text": [
            "ERROR: Could not find file <ipython-input-20-4397b7f3c0e3>\n",
            "NOTE: %mprun can only be used on functions defined in physical files, and not in the IPython environment.\n"
          ]
        },
        {
          "output_type": "execute_result",
          "data": {
            "text/plain": [
              "[0,\n",
              " 1,\n",
              " 4,\n",
              " 9,\n",
              " 16,\n",
              " 25,\n",
              " 36,\n",
              " 49,\n",
              " 64,\n",
              " 81,\n",
              " 100,\n",
              " 121,\n",
              " 144,\n",
              " 169,\n",
              " 196,\n",
              " 225,\n",
              " 256,\n",
              " 289,\n",
              " 324,\n",
              " 361,\n",
              " 400,\n",
              " 441,\n",
              " 484,\n",
              " 529,\n",
              " 576,\n",
              " 625,\n",
              " 676,\n",
              " 729,\n",
              " 784,\n",
              " 841,\n",
              " 900,\n",
              " 961,\n",
              " 1024,\n",
              " 1089,\n",
              " 1156,\n",
              " 1225,\n",
              " 1296,\n",
              " 1369,\n",
              " 1444,\n",
              " 1521,\n",
              " 1600,\n",
              " 1681,\n",
              " 1764,\n",
              " 1849,\n",
              " 1936,\n",
              " 2025,\n",
              " 2116,\n",
              " 2209,\n",
              " 2304,\n",
              " 2401,\n",
              " 2500,\n",
              " 2601,\n",
              " 2704,\n",
              " 2809,\n",
              " 2916,\n",
              " 3025,\n",
              " 3136,\n",
              " 3249,\n",
              " 3364,\n",
              " 3481,\n",
              " 3600,\n",
              " 3721,\n",
              " 3844,\n",
              " 3969,\n",
              " 4096,\n",
              " 4225,\n",
              " 4356,\n",
              " 4489,\n",
              " 4624,\n",
              " 4761,\n",
              " 4900,\n",
              " 5041,\n",
              " 5184,\n",
              " 5329,\n",
              " 5476,\n",
              " 5625,\n",
              " 5776,\n",
              " 5929,\n",
              " 6084,\n",
              " 6241,\n",
              " 6400,\n",
              " 6561,\n",
              " 6724,\n",
              " 6889,\n",
              " 7056,\n",
              " 7225,\n",
              " 7396,\n",
              " 7569,\n",
              " 7744,\n",
              " 7921,\n",
              " 8100,\n",
              " 8281,\n",
              " 8464,\n",
              " 8649,\n",
              " 8836,\n",
              " 9025,\n",
              " 9216,\n",
              " 9409,\n",
              " 9604,\n",
              " 9801,\n",
              " 10000,\n",
              " 10201,\n",
              " 10404,\n",
              " 10609,\n",
              " 10816,\n",
              " 11025,\n",
              " 11236,\n",
              " 11449,\n",
              " 11664,\n",
              " 11881,\n",
              " 12100,\n",
              " 12321,\n",
              " 12544,\n",
              " 12769,\n",
              " 12996,\n",
              " 13225,\n",
              " 13456,\n",
              " 13689,\n",
              " 13924,\n",
              " 14161,\n",
              " 14400,\n",
              " 14641,\n",
              " 14884,\n",
              " 15129,\n",
              " 15376,\n",
              " 15625,\n",
              " 15876,\n",
              " 16129,\n",
              " 16384,\n",
              " 16641,\n",
              " 16900,\n",
              " 17161,\n",
              " 17424,\n",
              " 17689,\n",
              " 17956,\n",
              " 18225,\n",
              " 18496,\n",
              " 18769,\n",
              " 19044,\n",
              " 19321,\n",
              " 19600,\n",
              " 19881,\n",
              " 20164,\n",
              " 20449,\n",
              " 20736,\n",
              " 21025,\n",
              " 21316,\n",
              " 21609,\n",
              " 21904,\n",
              " 22201,\n",
              " 22500,\n",
              " 22801,\n",
              " 23104,\n",
              " 23409,\n",
              " 23716,\n",
              " 24025,\n",
              " 24336,\n",
              " 24649,\n",
              " 24964,\n",
              " 25281,\n",
              " 25600,\n",
              " 25921,\n",
              " 26244,\n",
              " 26569,\n",
              " 26896,\n",
              " 27225,\n",
              " 27556,\n",
              " 27889,\n",
              " 28224,\n",
              " 28561,\n",
              " 28900,\n",
              " 29241,\n",
              " 29584,\n",
              " 29929,\n",
              " 30276,\n",
              " 30625,\n",
              " 30976,\n",
              " 31329,\n",
              " 31684,\n",
              " 32041,\n",
              " 32400,\n",
              " 32761,\n",
              " 33124,\n",
              " 33489,\n",
              " 33856,\n",
              " 34225,\n",
              " 34596,\n",
              " 34969,\n",
              " 35344,\n",
              " 35721,\n",
              " 36100,\n",
              " 36481,\n",
              " 36864,\n",
              " 37249,\n",
              " 37636,\n",
              " 38025,\n",
              " 38416,\n",
              " 38809,\n",
              " 39204,\n",
              " 39601,\n",
              " 40000,\n",
              " 40401,\n",
              " 40804,\n",
              " 41209,\n",
              " 41616,\n",
              " 42025,\n",
              " 42436,\n",
              " 42849,\n",
              " 43264,\n",
              " 43681,\n",
              " 44100,\n",
              " 44521,\n",
              " 44944,\n",
              " 45369,\n",
              " 45796,\n",
              " 46225,\n",
              " 46656,\n",
              " 47089,\n",
              " 47524,\n",
              " 47961,\n",
              " 48400,\n",
              " 48841,\n",
              " 49284,\n",
              " 49729,\n",
              " 50176,\n",
              " 50625,\n",
              " 51076,\n",
              " 51529,\n",
              " 51984,\n",
              " 52441,\n",
              " 52900,\n",
              " 53361,\n",
              " 53824,\n",
              " 54289,\n",
              " 54756,\n",
              " 55225,\n",
              " 55696,\n",
              " 56169,\n",
              " 56644,\n",
              " 57121,\n",
              " 57600,\n",
              " 58081,\n",
              " 58564,\n",
              " 59049,\n",
              " 59536,\n",
              " 60025,\n",
              " 60516,\n",
              " 61009,\n",
              " 61504,\n",
              " 62001,\n",
              " 62500,\n",
              " 63001,\n",
              " 63504,\n",
              " 64009,\n",
              " 64516,\n",
              " 65025,\n",
              " 65536,\n",
              " 66049,\n",
              " 66564,\n",
              " 67081,\n",
              " 67600,\n",
              " 68121,\n",
              " 68644,\n",
              " 69169,\n",
              " 69696,\n",
              " 70225,\n",
              " 70756,\n",
              " 71289,\n",
              " 71824,\n",
              " 72361,\n",
              " 72900,\n",
              " 73441,\n",
              " 73984,\n",
              " 74529,\n",
              " 75076,\n",
              " 75625,\n",
              " 76176,\n",
              " 76729,\n",
              " 77284,\n",
              " 77841,\n",
              " 78400,\n",
              " 78961,\n",
              " 79524,\n",
              " 80089,\n",
              " 80656,\n",
              " 81225,\n",
              " 81796,\n",
              " 82369,\n",
              " 82944,\n",
              " 83521,\n",
              " 84100,\n",
              " 84681,\n",
              " 85264,\n",
              " 85849,\n",
              " 86436,\n",
              " 87025,\n",
              " 87616,\n",
              " 88209,\n",
              " 88804,\n",
              " 89401,\n",
              " 90000,\n",
              " 90601,\n",
              " 91204,\n",
              " 91809,\n",
              " 92416,\n",
              " 93025,\n",
              " 93636,\n",
              " 94249,\n",
              " 94864,\n",
              " 95481,\n",
              " 96100,\n",
              " 96721,\n",
              " 97344,\n",
              " 97969,\n",
              " 98596,\n",
              " 99225,\n",
              " 99856,\n",
              " 100489,\n",
              " 101124,\n",
              " 101761,\n",
              " 102400,\n",
              " 103041,\n",
              " 103684,\n",
              " 104329,\n",
              " 104976,\n",
              " 105625,\n",
              " 106276,\n",
              " 106929,\n",
              " 107584,\n",
              " 108241,\n",
              " 108900,\n",
              " 109561,\n",
              " 110224,\n",
              " 110889,\n",
              " 111556,\n",
              " 112225,\n",
              " 112896,\n",
              " 113569,\n",
              " 114244,\n",
              " 114921,\n",
              " 115600,\n",
              " 116281,\n",
              " 116964,\n",
              " 117649,\n",
              " 118336,\n",
              " 119025,\n",
              " 119716,\n",
              " 120409,\n",
              " 121104,\n",
              " 121801,\n",
              " 122500,\n",
              " 123201,\n",
              " 123904,\n",
              " 124609,\n",
              " 125316,\n",
              " 126025,\n",
              " 126736,\n",
              " 127449,\n",
              " 128164,\n",
              " 128881,\n",
              " 129600,\n",
              " 130321,\n",
              " 131044,\n",
              " 131769,\n",
              " 132496,\n",
              " 133225,\n",
              " 133956,\n",
              " 134689,\n",
              " 135424,\n",
              " 136161,\n",
              " 136900,\n",
              " 137641,\n",
              " 138384,\n",
              " 139129,\n",
              " 139876,\n",
              " 140625,\n",
              " 141376,\n",
              " 142129,\n",
              " 142884,\n",
              " 143641,\n",
              " 144400,\n",
              " 145161,\n",
              " 145924,\n",
              " 146689,\n",
              " 147456,\n",
              " 148225,\n",
              " 148996,\n",
              " 149769,\n",
              " 150544,\n",
              " 151321,\n",
              " 152100,\n",
              " 152881,\n",
              " 153664,\n",
              " 154449,\n",
              " 155236,\n",
              " 156025,\n",
              " 156816,\n",
              " 157609,\n",
              " 158404,\n",
              " 159201,\n",
              " 160000,\n",
              " 160801,\n",
              " 161604,\n",
              " 162409,\n",
              " 163216,\n",
              " 164025,\n",
              " 164836,\n",
              " 165649,\n",
              " 166464,\n",
              " 167281,\n",
              " 168100,\n",
              " 168921,\n",
              " 169744,\n",
              " 170569,\n",
              " 171396,\n",
              " 172225,\n",
              " 173056,\n",
              " 173889,\n",
              " 174724,\n",
              " 175561,\n",
              " 176400,\n",
              " 177241,\n",
              " 178084,\n",
              " 178929,\n",
              " 179776,\n",
              " 180625,\n",
              " 181476,\n",
              " 182329,\n",
              " 183184,\n",
              " 184041,\n",
              " 184900,\n",
              " 185761,\n",
              " 186624,\n",
              " 187489,\n",
              " 188356,\n",
              " 189225,\n",
              " 190096,\n",
              " 190969,\n",
              " 191844,\n",
              " 192721,\n",
              " 193600,\n",
              " 194481,\n",
              " 195364,\n",
              " 196249,\n",
              " 197136,\n",
              " 198025,\n",
              " 198916,\n",
              " 199809,\n",
              " 200704,\n",
              " 201601,\n",
              " 202500,\n",
              " 203401,\n",
              " 204304,\n",
              " 205209,\n",
              " 206116,\n",
              " 207025,\n",
              " 207936,\n",
              " 208849,\n",
              " 209764,\n",
              " 210681,\n",
              " 211600,\n",
              " 212521,\n",
              " 213444,\n",
              " 214369,\n",
              " 215296,\n",
              " 216225,\n",
              " 217156,\n",
              " 218089,\n",
              " 219024,\n",
              " 219961,\n",
              " 220900,\n",
              " 221841,\n",
              " 222784,\n",
              " 223729,\n",
              " 224676,\n",
              " 225625,\n",
              " 226576,\n",
              " 227529,\n",
              " 228484,\n",
              " 229441,\n",
              " 230400,\n",
              " 231361,\n",
              " 232324,\n",
              " 233289,\n",
              " 234256,\n",
              " 235225,\n",
              " 236196,\n",
              " 237169,\n",
              " 238144,\n",
              " 239121,\n",
              " 240100,\n",
              " 241081,\n",
              " 242064,\n",
              " 243049,\n",
              " 244036,\n",
              " 245025,\n",
              " 246016,\n",
              " 247009,\n",
              " 248004,\n",
              " 249001,\n",
              " 250000,\n",
              " 251001,\n",
              " 252004,\n",
              " 253009,\n",
              " 254016,\n",
              " 255025,\n",
              " 256036,\n",
              " 257049,\n",
              " 258064,\n",
              " 259081,\n",
              " 260100,\n",
              " 261121,\n",
              " 262144,\n",
              " 263169,\n",
              " 264196,\n",
              " 265225,\n",
              " 266256,\n",
              " 267289,\n",
              " 268324,\n",
              " 269361,\n",
              " 270400,\n",
              " 271441,\n",
              " 272484,\n",
              " 273529,\n",
              " 274576,\n",
              " 275625,\n",
              " 276676,\n",
              " 277729,\n",
              " 278784,\n",
              " 279841,\n",
              " 280900,\n",
              " 281961,\n",
              " 283024,\n",
              " 284089,\n",
              " 285156,\n",
              " 286225,\n",
              " 287296,\n",
              " 288369,\n",
              " 289444,\n",
              " 290521,\n",
              " 291600,\n",
              " 292681,\n",
              " 293764,\n",
              " 294849,\n",
              " 295936,\n",
              " 297025,\n",
              " 298116,\n",
              " 299209,\n",
              " 300304,\n",
              " 301401,\n",
              " 302500,\n",
              " 303601,\n",
              " 304704,\n",
              " 305809,\n",
              " 306916,\n",
              " 308025,\n",
              " 309136,\n",
              " 310249,\n",
              " 311364,\n",
              " 312481,\n",
              " 313600,\n",
              " 314721,\n",
              " 315844,\n",
              " 316969,\n",
              " 318096,\n",
              " 319225,\n",
              " 320356,\n",
              " 321489,\n",
              " 322624,\n",
              " 323761,\n",
              " 324900,\n",
              " 326041,\n",
              " 327184,\n",
              " 328329,\n",
              " 329476,\n",
              " 330625,\n",
              " 331776,\n",
              " 332929,\n",
              " 334084,\n",
              " 335241,\n",
              " 336400,\n",
              " 337561,\n",
              " 338724,\n",
              " 339889,\n",
              " 341056,\n",
              " 342225,\n",
              " 343396,\n",
              " 344569,\n",
              " 345744,\n",
              " 346921,\n",
              " 348100,\n",
              " 349281,\n",
              " 350464,\n",
              " 351649,\n",
              " 352836,\n",
              " 354025,\n",
              " 355216,\n",
              " 356409,\n",
              " 357604,\n",
              " 358801,\n",
              " 360000,\n",
              " 361201,\n",
              " 362404,\n",
              " 363609,\n",
              " 364816,\n",
              " 366025,\n",
              " 367236,\n",
              " 368449,\n",
              " 369664,\n",
              " 370881,\n",
              " 372100,\n",
              " 373321,\n",
              " 374544,\n",
              " 375769,\n",
              " 376996,\n",
              " 378225,\n",
              " 379456,\n",
              " 380689,\n",
              " 381924,\n",
              " 383161,\n",
              " 384400,\n",
              " 385641,\n",
              " 386884,\n",
              " 388129,\n",
              " 389376,\n",
              " 390625,\n",
              " 391876,\n",
              " 393129,\n",
              " 394384,\n",
              " 395641,\n",
              " 396900,\n",
              " 398161,\n",
              " 399424,\n",
              " 400689,\n",
              " 401956,\n",
              " 403225,\n",
              " 404496,\n",
              " 405769,\n",
              " 407044,\n",
              " 408321,\n",
              " 409600,\n",
              " 410881,\n",
              " 412164,\n",
              " 413449,\n",
              " 414736,\n",
              " 416025,\n",
              " 417316,\n",
              " 418609,\n",
              " 419904,\n",
              " 421201,\n",
              " 422500,\n",
              " 423801,\n",
              " 425104,\n",
              " 426409,\n",
              " 427716,\n",
              " 429025,\n",
              " 430336,\n",
              " 431649,\n",
              " 432964,\n",
              " 434281,\n",
              " 435600,\n",
              " 436921,\n",
              " 438244,\n",
              " 439569,\n",
              " 440896,\n",
              " 442225,\n",
              " 443556,\n",
              " 444889,\n",
              " 446224,\n",
              " 447561,\n",
              " 448900,\n",
              " 450241,\n",
              " 451584,\n",
              " 452929,\n",
              " 454276,\n",
              " 455625,\n",
              " 456976,\n",
              " 458329,\n",
              " 459684,\n",
              " 461041,\n",
              " 462400,\n",
              " 463761,\n",
              " 465124,\n",
              " 466489,\n",
              " 467856,\n",
              " 469225,\n",
              " 470596,\n",
              " 471969,\n",
              " 473344,\n",
              " 474721,\n",
              " 476100,\n",
              " 477481,\n",
              " 478864,\n",
              " 480249,\n",
              " 481636,\n",
              " 483025,\n",
              " 484416,\n",
              " 485809,\n",
              " 487204,\n",
              " 488601,\n",
              " 490000,\n",
              " 491401,\n",
              " 492804,\n",
              " 494209,\n",
              " 495616,\n",
              " 497025,\n",
              " 498436,\n",
              " 499849,\n",
              " 501264,\n",
              " 502681,\n",
              " 504100,\n",
              " 505521,\n",
              " 506944,\n",
              " 508369,\n",
              " 509796,\n",
              " 511225,\n",
              " 512656,\n",
              " 514089,\n",
              " 515524,\n",
              " 516961,\n",
              " 518400,\n",
              " 519841,\n",
              " 521284,\n",
              " 522729,\n",
              " 524176,\n",
              " 525625,\n",
              " 527076,\n",
              " 528529,\n",
              " 529984,\n",
              " 531441,\n",
              " 532900,\n",
              " 534361,\n",
              " 535824,\n",
              " 537289,\n",
              " 538756,\n",
              " 540225,\n",
              " 541696,\n",
              " 543169,\n",
              " 544644,\n",
              " 546121,\n",
              " 547600,\n",
              " 549081,\n",
              " 550564,\n",
              " 552049,\n",
              " 553536,\n",
              " 555025,\n",
              " 556516,\n",
              " 558009,\n",
              " 559504,\n",
              " 561001,\n",
              " 562500,\n",
              " 564001,\n",
              " 565504,\n",
              " 567009,\n",
              " 568516,\n",
              " 570025,\n",
              " 571536,\n",
              " 573049,\n",
              " 574564,\n",
              " 576081,\n",
              " 577600,\n",
              " 579121,\n",
              " 580644,\n",
              " 582169,\n",
              " 583696,\n",
              " 585225,\n",
              " 586756,\n",
              " 588289,\n",
              " 589824,\n",
              " 591361,\n",
              " 592900,\n",
              " 594441,\n",
              " 595984,\n",
              " 597529,\n",
              " 599076,\n",
              " 600625,\n",
              " 602176,\n",
              " 603729,\n",
              " 605284,\n",
              " 606841,\n",
              " 608400,\n",
              " 609961,\n",
              " 611524,\n",
              " 613089,\n",
              " 614656,\n",
              " 616225,\n",
              " 617796,\n",
              " 619369,\n",
              " 620944,\n",
              " 622521,\n",
              " 624100,\n",
              " 625681,\n",
              " 627264,\n",
              " 628849,\n",
              " 630436,\n",
              " 632025,\n",
              " 633616,\n",
              " 635209,\n",
              " 636804,\n",
              " 638401,\n",
              " 640000,\n",
              " 641601,\n",
              " 643204,\n",
              " 644809,\n",
              " 646416,\n",
              " 648025,\n",
              " 649636,\n",
              " 651249,\n",
              " 652864,\n",
              " 654481,\n",
              " 656100,\n",
              " 657721,\n",
              " 659344,\n",
              " 660969,\n",
              " 662596,\n",
              " 664225,\n",
              " 665856,\n",
              " 667489,\n",
              " 669124,\n",
              " 670761,\n",
              " 672400,\n",
              " 674041,\n",
              " 675684,\n",
              " 677329,\n",
              " 678976,\n",
              " 680625,\n",
              " 682276,\n",
              " 683929,\n",
              " 685584,\n",
              " 687241,\n",
              " 688900,\n",
              " 690561,\n",
              " 692224,\n",
              " 693889,\n",
              " 695556,\n",
              " 697225,\n",
              " 698896,\n",
              " 700569,\n",
              " 702244,\n",
              " 703921,\n",
              " 705600,\n",
              " 707281,\n",
              " 708964,\n",
              " 710649,\n",
              " 712336,\n",
              " 714025,\n",
              " 715716,\n",
              " 717409,\n",
              " 719104,\n",
              " 720801,\n",
              " 722500,\n",
              " 724201,\n",
              " 725904,\n",
              " 727609,\n",
              " 729316,\n",
              " 731025,\n",
              " 732736,\n",
              " 734449,\n",
              " 736164,\n",
              " 737881,\n",
              " 739600,\n",
              " 741321,\n",
              " 743044,\n",
              " 744769,\n",
              " 746496,\n",
              " 748225,\n",
              " 749956,\n",
              " 751689,\n",
              " 753424,\n",
              " 755161,\n",
              " 756900,\n",
              " 758641,\n",
              " 760384,\n",
              " 762129,\n",
              " 763876,\n",
              " 765625,\n",
              " 767376,\n",
              " 769129,\n",
              " 770884,\n",
              " 772641,\n",
              " 774400,\n",
              " 776161,\n",
              " 777924,\n",
              " 779689,\n",
              " 781456,\n",
              " 783225,\n",
              " 784996,\n",
              " 786769,\n",
              " 788544,\n",
              " 790321,\n",
              " 792100,\n",
              " 793881,\n",
              " 795664,\n",
              " 797449,\n",
              " 799236,\n",
              " 801025,\n",
              " 802816,\n",
              " 804609,\n",
              " 806404,\n",
              " 808201,\n",
              " 810000,\n",
              " 811801,\n",
              " 813604,\n",
              " 815409,\n",
              " 817216,\n",
              " 819025,\n",
              " 820836,\n",
              " 822649,\n",
              " 824464,\n",
              " 826281,\n",
              " 828100,\n",
              " 829921,\n",
              " 831744,\n",
              " 833569,\n",
              " 835396,\n",
              " 837225,\n",
              " 839056,\n",
              " 840889,\n",
              " 842724,\n",
              " 844561,\n",
              " 846400,\n",
              " 848241,\n",
              " 850084,\n",
              " 851929,\n",
              " 853776,\n",
              " 855625,\n",
              " 857476,\n",
              " 859329,\n",
              " 861184,\n",
              " 863041,\n",
              " 864900,\n",
              " 866761,\n",
              " 868624,\n",
              " 870489,\n",
              " 872356,\n",
              " 874225,\n",
              " 876096,\n",
              " 877969,\n",
              " 879844,\n",
              " 881721,\n",
              " 883600,\n",
              " 885481,\n",
              " 887364,\n",
              " 889249,\n",
              " 891136,\n",
              " 893025,\n",
              " 894916,\n",
              " 896809,\n",
              " 898704,\n",
              " 900601,\n",
              " 902500,\n",
              " 904401,\n",
              " 906304,\n",
              " 908209,\n",
              " 910116,\n",
              " 912025,\n",
              " 913936,\n",
              " 915849,\n",
              " 917764,\n",
              " 919681,\n",
              " 921600,\n",
              " 923521,\n",
              " 925444,\n",
              " 927369,\n",
              " 929296,\n",
              " 931225,\n",
              " 933156,\n",
              " 935089,\n",
              " 937024,\n",
              " 938961,\n",
              " 940900,\n",
              " 942841,\n",
              " 944784,\n",
              " 946729,\n",
              " 948676,\n",
              " 950625,\n",
              " 952576,\n",
              " 954529,\n",
              " 956484,\n",
              " 958441,\n",
              " 960400,\n",
              " 962361,\n",
              " 964324,\n",
              " 966289,\n",
              " 968256,\n",
              " 970225,\n",
              " 972196,\n",
              " 974169,\n",
              " 976144,\n",
              " 978121,\n",
              " 980100,\n",
              " 982081,\n",
              " 984064,\n",
              " 986049,\n",
              " 988036,\n",
              " 990025,\n",
              " 992016,\n",
              " 994009,\n",
              " 996004,\n",
              " 998001,\n",
              " ...]"
            ]
          },
          "metadata": {},
          "execution_count": 20
        }
      ]
    },
    {
      "cell_type": "markdown",
      "source": [
        "**17. Write a Python program to create and write a list of numbers to a file, one number per line.**"
      ],
      "metadata": {
        "id": "U9wnEfV8FzvS"
      }
    },
    {
      "cell_type": "code",
      "source": [
        "numbers = [1, 2, 3, 4, 5]\n",
        "\n",
        "with open(\"numbers.txt\", \"w\") as file:\n",
        "    for number in numbers:\n",
        "        file.write(f\"{number}\\n\")"
      ],
      "metadata": {
        "id": "z2SPW4WPFz2S"
      },
      "execution_count": 21,
      "outputs": []
    },
    {
      "cell_type": "markdown",
      "source": [
        "**18. How would you implement a basic logging setup that logs to a file with rotation after 1MB?**"
      ],
      "metadata": {
        "id": "H1TfLdD0Fz9j"
      }
    },
    {
      "cell_type": "code",
      "source": [
        "import logging\n",
        "from logging.handlers import RotatingFileHandler\n",
        "\n",
        "handler = RotatingFileHandler(\"app.log\", maxBytes=1_000_000, backupCount=3)\n",
        "logging.basicConfig(level=logging.INFO, handlers=[handler])\n",
        "\n",
        "logging.info(\"This is a log message.\")"
      ],
      "metadata": {
        "id": "G-WRtRVMF0D0"
      },
      "execution_count": 22,
      "outputs": []
    },
    {
      "cell_type": "markdown",
      "source": [
        "**19. Write a program that handles both IndexError and KeyError using a try-except block.**"
      ],
      "metadata": {
        "id": "epo0RatuF0KF"
      }
    },
    {
      "cell_type": "code",
      "source": [
        "data = {\"key1\": \"value1\"}\n",
        "lst = [1, 2, 3]\n",
        "\n",
        "try:\n",
        "    print(lst[10])  # IndexError\n",
        "    print(data[\"nonexistent_key\"])  # KeyError\n",
        "except IndexError:\n",
        "    print(\"List index out of range.\")\n",
        "except KeyError:\n",
        "    print(\"Key not found in dictionary.\")"
      ],
      "metadata": {
        "colab": {
          "base_uri": "https://localhost:8080/"
        },
        "id": "KxzlGyH1F0Qn",
        "outputId": "ed60e38c-75ae-420e-ac1b-63202476ee71"
      },
      "execution_count": 23,
      "outputs": [
        {
          "output_type": "stream",
          "name": "stdout",
          "text": [
            "List index out of range.\n"
          ]
        }
      ]
    },
    {
      "cell_type": "markdown",
      "source": [
        "**20. How would you open a file and read its contents using a context manager in Python?**"
      ],
      "metadata": {
        "id": "8PXuMfVBF0W0"
      }
    },
    {
      "cell_type": "code",
      "source": [
        "with open(\"file.txt\", \"r\") as file:\n",
        "    content = file.read()\n",
        "    print(content)"
      ],
      "metadata": {
        "colab": {
          "base_uri": "https://localhost:8080/"
        },
        "id": "gTK2v_iHF0dE",
        "outputId": "f185e85f-875a-4a03-b2ec-0073e66cd854"
      },
      "execution_count": 24,
      "outputs": [
        {
          "output_type": "stream",
          "name": "stdout",
          "text": [
            "This is a sample string.Appending this new line.\n",
            "\n"
          ]
        }
      ]
    },
    {
      "cell_type": "markdown",
      "source": [
        "**21. Write a Python program that reads a file and prints the number of occurrences of a specific word.**"
      ],
      "metadata": {
        "id": "JBGt5ar5F0kG"
      }
    },
    {
      "cell_type": "code",
      "source": [
        "word_to_count = \"example\"\n",
        "\n",
        "with open(\"file.txt\", \"r\") as file:\n",
        "    content = file.read()\n",
        "    occurrences = content.split().count(word_to_count)\n",
        "\n",
        "print(f\"The word '{word_to_count}' occurs {occurrences} times.\")"
      ],
      "metadata": {
        "colab": {
          "base_uri": "https://localhost:8080/"
        },
        "id": "7FNlIa0zF0qG",
        "outputId": "571ca36c-d0e9-4f45-ce0d-8a51cc0a47c9"
      },
      "execution_count": 25,
      "outputs": [
        {
          "output_type": "stream",
          "name": "stdout",
          "text": [
            "The word 'example' occurs 0 times.\n"
          ]
        }
      ]
    },
    {
      "cell_type": "markdown",
      "source": [
        "**22. How can you check if a file is empty before attempting to read its contents?**"
      ],
      "metadata": {
        "id": "qA2klV91F0xY"
      }
    },
    {
      "cell_type": "code",
      "source": [
        "import os\n",
        "\n",
        "if os.path.exists(\"file.txt\") and os.stat(\"file.txt\").st_size > 0:\n",
        "    with open(\"file.txt\", \"r\") as file:\n",
        "        content = file.read()\n",
        "else:\n",
        "    print(\"File is empty or does not exist.\")"
      ],
      "metadata": {
        "id": "Zmte8Si5L53_"
      },
      "execution_count": 26,
      "outputs": []
    },
    {
      "cell_type": "markdown",
      "source": [
        "**23. Write a Python program that writes to a log file when an error occurs during file handlin**"
      ],
      "metadata": {
        "id": "SkxnWw9rL9t9"
      }
    },
    {
      "cell_type": "code",
      "source": [
        "import logging\n",
        "\n",
        "logging.basicConfig(filename=\"file_errors.log\", level=logging.ERROR)\n",
        "\n",
        "try:\n",
        "    with open(\"nonexistent.txt\", \"r\") as file:\n",
        "        content = file.read()\n",
        "except FileNotFoundError as e:\n",
        "    logging.error(f\"File handling error: {e}\")"
      ],
      "metadata": {
        "colab": {
          "base_uri": "https://localhost:8080/"
        },
        "id": "KTtmOh0DL8w2",
        "outputId": "5e6e1218-8009-4a87-f085-cf8508aff0cc"
      },
      "execution_count": 27,
      "outputs": [
        {
          "output_type": "stream",
          "name": "stderr",
          "text": [
            "ERROR:root:File handling error: [Errno 2] No such file or directory: 'nonexistent.txt'\n"
          ]
        }
      ]
    },
    {
      "cell_type": "code",
      "source": [],
      "metadata": {
        "id": "1x1FFQW5MEn6"
      },
      "execution_count": null,
      "outputs": []
    }
  ]
}